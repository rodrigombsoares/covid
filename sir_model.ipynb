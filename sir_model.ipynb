{
 "cells": [
  {
   "cell_type": "code",
   "execution_count": 1,
   "metadata": {},
   "outputs": [],
   "source": [
    "import pandas as pd"
   ]
  },
  {
   "cell_type": "code",
   "execution_count": 2,
   "metadata": {},
   "outputs": [],
   "source": [
    "cases_total = pd.read_csv('2020-04-15_total.csv', delimiter = ',', header=None).drop([0,2,3], axis=1).drop([0])\n",
    "cases_total.columns = [n for n in range(len(cases_total.columns))]\n",
    "for n in range(len(cases_total.columns))[1:]:\n",
    "    cases_total[n] = pd.to_numeric(cases_total[n])"
   ]
  },
  {
   "cell_type": "code",
   "execution_count": 3,
   "metadata": {},
   "outputs": [],
   "source": [
    "cases_recov = pd.read_csv('2020-04-15_recov.csv', delimiter = ',', header=None).drop([0,2,3], axis=1).drop([0])\n",
    "cases_recov.columns = [n for n in range(len(cases_recov.columns))]\n",
    "for n in range(len(cases_recov.columns))[1:]:\n",
    "    cases_recov[n] = pd.to_numeric(cases_recov[n])"
   ]
  },
  {
   "cell_type": "code",
   "execution_count": 4,
   "metadata": {},
   "outputs": [],
   "source": [
    "cases_death = pd.read_csv('2020-04-15_death.csv', delimiter = ',', header=None).drop([0,2,3], axis=1).drop([0])\n",
    "cases_death.columns = [n for n in range(len(cases_death.columns))]\n",
    "for n in range(len(cases_death.columns))[1:]:\n",
    "    cases_death[n] = pd.to_numeric(cases_death[n])"
   ]
  },
  {
   "cell_type": "code",
   "execution_count": 5,
   "metadata": {},
   "outputs": [],
   "source": [
    "# Agregate by country\n",
    "\n",
    "cases_total_bc = cases_total.groupby(cases_total[0]).agg('sum')\n",
    "cases_recov_bc = cases_recov.groupby(cases_recov[0]).agg('sum')\n",
    "cases_death_bc = cases_death.groupby(cases_death[0]).agg('sum')"
   ]
  },
  {
   "cell_type": "code",
   "execution_count": 6,
   "metadata": {},
   "outputs": [],
   "source": [
    "\"\"\"\n",
    "Get all countries and shift from outbrake day 0 for each country\n",
    "\"\"\"\n",
    "single_dfs = []\n",
    "for i in range(len(cases_total_bc.index)):\n",
    "    single_row = cases_total_bc.iloc[[i]]\n",
    "    zero_cols = [ col for col, is_zero in ((single_row == 0).sum() == single_row.shape[0]).items() if is_zero]\n",
    "    single_row_dropped = single_row.drop(zero_cols, axis=1)\n",
    "    single_row_dropped.columns = range(single_row_dropped.columns.size)\n",
    "    single_dfs.append(single_row_dropped)\n",
    "\n",
    "shifted_df = pd.concat(single_dfs)\n",
    "\n",
    "shifted_df_transp_total = shifted_df.T\n",
    "df_transp_recov = cases_recov_bc.T\n",
    "df_trasp_death = cases_death_bc.T"
   ]
  },
  {
   "cell_type": "code",
   "execution_count": 7,
   "metadata": {},
   "outputs": [],
   "source": [
    "# Extract Brazil data\n",
    "\n",
    "countries = ['Brazil']\n",
    "population = 212559417*0.03\n",
    "\n",
    "br_total = shifted_df_transp_total[countries].dropna().values[:,0][16:]\n",
    "br_recov = df_transp_recov[countries][-len(br_total):].values[:,0]\n",
    "br_death = df_trasp_death[countries][-len(br_total):].values[:,0]"
   ]
  },
  {
   "cell_type": "code",
   "execution_count": 8,
   "metadata": {},
   "outputs": [
    {
     "data": {
      "text/plain": [
       "(33, 33, 33)"
      ]
     },
     "execution_count": 8,
     "metadata": {},
     "output_type": "execute_result"
    }
   ],
   "source": [
    "len(br_total), len(br_recov), len(br_death), "
   ]
  },
  {
   "cell_type": "code",
   "execution_count": 9,
   "metadata": {},
   "outputs": [],
   "source": [
    "import scipy.integrate\n",
    "import numpy as np\n",
    "import matplotlib.pyplot as plt"
   ]
  },
  {
   "cell_type": "code",
   "execution_count": 10,
   "metadata": {},
   "outputs": [
    {
     "data": {
      "text/plain": [
       "151.0"
      ]
     },
     "execution_count": 10,
     "metadata": {},
     "output_type": "execute_result"
    }
   ],
   "source": [
    "# an_array = np.empty((1,DAYS-31))\n",
    "# an_array[:] = np.NaN\n",
    "# an_array[0]\n",
    "# cases_filled = np.concatenate((cases[:,0], an_array[0]))\n",
    "cases_br = br_total\n",
    "DAYS = len(cases_br)\n",
    "START = cases_br[0]\n",
    "START"
   ]
  },
  {
   "cell_type": "code",
   "execution_count": 11,
   "metadata": {},
   "outputs": [],
   "source": [
    "# ODEs\n",
    "def SIR_model(y, t, beta, gamma):\n",
    "    S, I, R = y\n",
    "    \n",
    "    dS_dt = -beta*S*I\n",
    "    dI_dt = beta*S*I - gamma*I\n",
    "    dR_dt = gamma*I\n",
    "    \n",
    "    return([dS_dt, dI_dt, dR_dt])"
   ]
  },
  {
   "cell_type": "code",
   "execution_count": 12,
   "metadata": {},
   "outputs": [],
   "source": [
    "# Initial conditions\n",
    "S0 = population\n",
    "I0 = START\n",
    "R0 = 0.0\n",
    "beta = 1.7422467656256903e-08\n",
    "gamma = 0.006165388360591112\n",
    "\n",
    "# Time vector\n",
    "tv = np.linspace(0, 200, 200)\n",
    "\n",
    "# Result\n",
    "solution = scipy.integrate.odeint(SIR_model, [S0, I0, R0], tv, args=(beta, gamma))\n",
    "solution = np.array(solution)"
   ]
  },
  {
   "cell_type": "code",
   "execution_count": null,
   "metadata": {},
   "outputs": [],
   "source": []
  },
  {
   "cell_type": "code",
   "execution_count": 13,
   "metadata": {},
   "outputs": [
    {
     "data": {
      "image/png": "[encoded data removed]",
      "text/plain": [
       "<Figure size 432x288 with 1 Axes>"
      ]
     },
     "metadata": {
      "needs_background": "light"
     },
     "output_type": "display_data"
    }
   ],
   "source": [
    "# Plot\n",
    "plt.figure(figsize=[6,4])\n",
    "plt.plot(tv, solution[:,0], label=\"S(t)\")\n",
    "plt.plot(tv, solution[:,1], label=\"I(t)\")\n",
    "plt.plot(tv, solution[:,2], label=\"R(t)\")\n",
    "# plt.plot(tv, cases_br, label=\"cases\")\n",
    "plt.legend()\n",
    "plt.show()"
   ]
  },
  {
   "cell_type": "code",
   "execution_count": null,
   "metadata": {},
   "outputs": [],
   "source": []
  },
  {
   "cell_type": "code",
   "execution_count": 14,
   "metadata": {},
   "outputs": [],
   "source": [
    "from symfit import Parameter, variables, Fit, D, ODEModel"
   ]
  },
  {
   "cell_type": "code",
   "execution_count": null,
   "metadata": {},
   "outputs": [],
   "source": []
  },
  {
   "cell_type": "code",
   "execution_count": null,
   "metadata": {},
   "outputs": [],
   "source": []
  },
  {
   "cell_type": "code",
   "execution_count": 26,
   "metadata": {},
   "outputs": [],
   "source": [
    "sdata = population - br_total\n",
    "idata = br_total - br_recov - br_death\n",
    "rdata = br_recov + br_death\n",
    "tdata = np.linspace(0, len(sdata), len(sdata))\n",
    "\n",
    "s, i, r, t = variables('s, i, r, t')\n",
    "beta = Parameter('beta', 2.7174702790581657e-08)\n",
    "gamma = Parameter('gamma', 0.006165388360590151)\n",
    "s0 = population\n",
    "\n",
    "model_dict = {\n",
    "    D(s, t): -beta*s*i,\n",
    "    D(i, t): beta*s*i - gamma*i,\n",
    "    D(r, t): gamma*i,\n",
    "}"
   ]
  },
  {
   "cell_type": "code",
   "execution_count": 27,
   "metadata": {},
   "outputs": [],
   "source": [
    "ode_model = ODEModel(model_dict, initial={t: tdata[0], s: sdata[0], i: idata[0], r: rdata[0]})\n",
    "\n",
    "fit = Fit(ode_model, t=tdata, s=sdata, i=idata, r=rdata)\n",
    "fit_result = fit.execute()"
   ]
  },
  {
   "cell_type": "code",
   "execution_count": 28,
   "metadata": {},
   "outputs": [
    {
     "name": "stdout",
     "output_type": "stream",
     "text": [
      "beta 3.255630798458789e-09 2.6223324181282322e-08\n",
      "gamma 0.0008162847736250385 0.006165388360590574\n"
     ]
    }
   ],
   "source": [
    "beta_i = (432/(idata[-2]*sdata[-2])+368/(idata[-6]*sdata[-6]))/2\n",
    "gamma_i = (20/idata[-2] + 14/idata[-4])/2\n",
    "print('beta', beta_i, fit_result.value(beta))\n",
    "print('gamma', gamma_i, fit_result.value(gamma))"
   ]
  },
  {
   "cell_type": "code",
   "execution_count": null,
   "metadata": {},
   "outputs": [],
   "source": []
  },
  {
   "cell_type": "code",
   "execution_count": 33,
   "metadata": {},
   "outputs": [
    {
     "data": {
      "image/png": "[encoded data removed]",
      "text/plain": [
       "<Figure size 432x288 with 1 Axes>"
      ]
     },
     "metadata": {
      "needs_background": "light"
     },
     "output_type": "display_data"
    }
   ],
   "source": [
    "# Generate some data\n",
    "tvec = np.linspace(0, 120, 120)\n",
    "\n",
    "i, r, s = ode_model(t=tvec, **fit_result.params)\n",
    "# plt.plot(tvec, s, label='[s]')\n",
    "plt.plot(tvec, i, label='[i]')\n",
    "plt.plot(tvec, r, label='[r]')\n",
    "plt.scatter(tdata, idata, label='[idata]')\n",
    "plt.scatter(tdata, rdata, label='[rdata]')\n",
    "plt.legend()\n",
    "plt.show()"
   ]
  },
  {
   "cell_type": "code",
   "execution_count": null,
   "metadata": {},
   "outputs": [],
   "source": []
  },
  {
   "cell_type": "code",
   "execution_count": null,
   "metadata": {},
   "outputs": [],
   "source": []
  },
  {
   "cell_type": "code",
   "execution_count": null,
   "metadata": {},
   "outputs": [],
   "source": []
  },
  {
   "cell_type": "code",
   "execution_count": null,
   "metadata": {},
   "outputs": [],
   "source": []
  },
  {
   "cell_type": "code",
   "execution_count": null,
   "metadata": {},
   "outputs": [],
   "source": []
  },
  {
   "cell_type": "code",
   "execution_count": null,
   "metadata": {},
   "outputs": [],
   "source": []
  }
 ],
 "metadata": {
  "kernelspec": {
   "display_name": "Python 3",
   "language": "python",
   "name": "python3"
  },
  "language_info": {
   "codemirror_mode": {
    "name": "ipython",
    "version": 3
   },
   "file_extension": ".py",
   "mimetype": "text/x-python",
   "name": "python",
   "nbconvert_exporter": "python",
   "pygments_lexer": "ipython3",
   "version": "3.7.4"
  }
 },
 "nbformat": 4,
 "nbformat_minor": 4
}
